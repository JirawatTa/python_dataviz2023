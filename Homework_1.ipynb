{
  "nbformat": 4,
  "nbformat_minor": 0,
  "metadata": {
    "colab": {
      "provenance": [],
      "authorship_tag": "ABX9TyObxT75fi+4EjsiQwGQtXil",
      "include_colab_link": true
    },
    "kernelspec": {
      "name": "python3",
      "display_name": "Python 3"
    },
    "language_info": {
      "name": "python"
    }
  },
  "cells": [
    {
      "cell_type": "markdown",
      "metadata": {
        "id": "view-in-github",
        "colab_type": "text"
      },
      "source": [
        "<a href=\"https://colab.research.google.com/github/JirawatTa/python_dataviz2023/blob/main/Homework_1.ipynb\" target=\"_parent\"><img src=\"https://colab.research.google.com/assets/colab-badge.svg\" alt=\"Open In Colab\"/></a>"
      ]
    },
    {
      "cell_type": "markdown",
      "source": [
        "## HW1\n",
        "คำนวณว่า ช่วงเวลาต่อไปนี้ ห่างกันกี่ ชั่วโมงกี่นาที กี่วินาที (print ออกมาให้สวยงาม)\n",
        "\n",
        "- 12:30:15 - 13:41:07\n",
        "- 09:11:50 - 21:30:15\n",
        "- 19:25:30 - 03:10:15"
      ],
      "metadata": {
        "id": "MOD1ctnuynhv"
      }
    },
    {
      "cell_type": "markdown",
      "source": [
        "### ข้อที่ 1 ช่วงเวลา 12:30:15 - 13:41:07"
      ],
      "metadata": {
        "id": "Rljmus1AYhIW"
      }
    },
    {
      "cell_type": "code",
      "execution_count": 97,
      "metadata": {
        "colab": {
          "base_uri": "https://localhost:8080/"
        },
        "id": "yU9gMeJ6yiro",
        "outputId": "75c6a3a4-ff94-44b1-da29-241afdba2e2a"
      },
      "outputs": [
        {
          "output_type": "stream",
          "name": "stdout",
          "text": [
            "เวลาจากโจทย์คือ 12:30:15 และ 13:41:07 ซึ่งห่างกันเป็นเวลา 1 ชั่วโมง 10 นาที 52 วินาที\n"
          ]
        }
      ],
      "source": [
        "T = '12:30:15'\n",
        "T1 = T.split(\":\")\n",
        "hours = int(T1[0])*3600\n",
        "minutes = int(T1[1])*60\n",
        "seconds = int(T1[2])\n",
        "Fulltime1 =  hours + minutes + seconds\n",
        "\n",
        "t = '13:41:07'\n",
        "T2 = t.split(\":\")\n",
        "hours1 = int(T2[0])*3600\n",
        "minutes1 = int(T2[1])*60\n",
        "seconds1 = int(T2[2])\n",
        "Fulltime2 =  hours1 + minutes1 + seconds1\n",
        "\n",
        "Total = Fulltime2 - Fulltime1\n",
        "Hours = int(Total/3600)\n",
        "SS = Total%3600\n",
        "Minutes = int(SS/60)\n",
        "Second = int(SS%60)\n",
        "\n",
        "print((f'เวลาจากโจทย์คือ {T} และ {t} ซึ่งห่างกันเป็นเวลา {Hours} ชั่วโมง {Minutes} นาที {Second} วินาที'))"
      ]
    },
    {
      "cell_type": "markdown",
      "source": [
        "### ข้อที่ 1 ช่วงเวลา 09:11:50 - 21:30:15"
      ],
      "metadata": {
        "id": "0FXWdso8Y1bJ"
      }
    },
    {
      "cell_type": "code",
      "source": [
        "TT = '09:11:50'\n",
        "T3 = TT.split(\":\")\n",
        "hours = int(T3[0])*3600\n",
        "minutes = int(T3[1])*60\n",
        "seconds = int(T3[2])\n",
        "Fulltime3 =  hours + minutes + seconds\n",
        "\n",
        "tt = '21:30:15'\n",
        "T4 = tt.split(\":\")\n",
        "hours1 = int(T4[0])*3600\n",
        "minutes1 = int(T4[1])*60\n",
        "seconds1 = int(T4[2])\n",
        "Fulltime4 =  hours1 + minutes1 + seconds1\n",
        "\n",
        "Time2 = Fulltime4 - Fulltime3\n",
        "Hours1 = int(Time2/3600)\n",
        "Sec = Time2%3600\n",
        "Minutes1 = int(Sec/60)\n",
        "Second1 = int(Sec%60)\n",
        "\n",
        "print((f'เวลาจากโจทย์คือ {TT} และ {tt} ซึ่งห่างกันเป็นเวลา {Hours1} ชั่วโมง {Minutes1} นาที {Second1} วินาที'))"
      ],
      "metadata": {
        "colab": {
          "base_uri": "https://localhost:8080/"
        },
        "id": "dqcbBNL65K9a",
        "outputId": "722ce895-0ec1-40d2-8f11-14c28e31d3a7"
      },
      "execution_count": 98,
      "outputs": [
        {
          "output_type": "stream",
          "name": "stdout",
          "text": [
            "เวลาจากโจทย์คือ 09:11:50 และ 21:30:15 ซึ่งห่างกันเป็นเวลา 12 ชั่วโมง 18 นาที 25 วินาที\n"
          ]
        }
      ]
    },
    {
      "cell_type": "markdown",
      "source": [
        "### ข้อที่ 3 ช่วงเวลา 19:25:30 - 03:10:15"
      ],
      "metadata": {
        "id": "a69MVysdY8IV"
      }
    },
    {
      "cell_type": "code",
      "source": [
        "TTT = '19:25:30'\n",
        "T4 = TTT.split(\":\")\n",
        "hours = int(T4[0])*3600\n",
        "minutes = int(T4[1])*60\n",
        "seconds = int(T4[2])\n",
        "Fulltime5 =  hours + minutes + seconds\n",
        "\n",
        "ttt = '03:10:15'\n",
        "T5= ttt.split(\":\")\n",
        "hours1 = int(T5[0])*3600\n",
        "minutes1 = int(T5[1])*60\n",
        "seconds1 = int(T5[2])\n",
        "Fulltime6 =  hours1 + minutes1 + seconds1\n",
        "\n",
        "time = Fulltime6 - Fulltime5\n",
        "if(time<0):\n",
        "  time1 = time+86400 # บวกเนื่องจากเวลาเกินมาอีก 1 วัน\n",
        "else:\n",
        "  time1 = time\n",
        "\n",
        "Hours2 = int(time1/3600)\n",
        "Ss = time1%3600\n",
        "Minutes2 = int(Ss/60)\n",
        "Second2 = int(Ss%60)\n",
        "\n",
        "print((f'เวลาจากโจทย์คือ {TTT} และ {ttt} ซึ่งห่างกันเป็นเวลา {Hours2} ชั่วโมง {Minutes2} นาที {Second2} วินาที'))"
      ],
      "metadata": {
        "colab": {
          "base_uri": "https://localhost:8080/"
        },
        "id": "UwbGVYmP0kcX",
        "outputId": "980fb89c-f468-4de2-d3ce-e0a7311cd3e6"
      },
      "execution_count": 99,
      "outputs": [
        {
          "output_type": "stream",
          "name": "stdout",
          "text": [
            "เวลาจากโจทย์คือ 19:25:30 และ 03:10:15 ซึ่งห่างกันเป็นเวลา 7 ชั่วโมง 44 นาที 45 วินาที\n"
          ]
        }
      ]
    }
  ]
}